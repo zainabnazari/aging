{
 "cells": [
  {
   "cell_type": "code",
   "execution_count": 10,
   "id": "a51063cf",
   "metadata": {},
   "outputs": [
    {
     "name": "stdout",
     "output_type": "stream",
     "text": [
      "                  sequence    FC_2_6   FC_6_12\n",
      "0  TACCCTGTAGAACCGAATTTGTG -1.954425 -1.078278\n",
      "1   CATCTGGGCAACTGATTGAACT -1.344444 -1.186487\n",
      "2   AGGTCCTCAATAAGTATTTGTT -1.331243 -1.037213\n",
      "3   TAAGTGCCTGCATGTATATGCG -0.964038 -0.907717\n",
      "4  AGGCAGTGTAGTTAGCTGATTGC -0.950259 -0.683349\n",
      "5   AACCCGTAGATCCGAACTTGTG -0.825334 -0.897539\n",
      "6  AGGTTACCCGAGCAACTTTGCAT -0.722926 -0.987302\n"
     ]
    }
   ],
   "source": [
    "import os\n",
    "import pandas as pd\n",
    "\n",
    "# Define the folder where your files are\n",
    "folder_path = '/Users/zainabnazari/mfuzz/specific_st_name/cluster_output/cluster_with_membership_1'  \n",
    "# Initialize an empty list to store dataframes\n",
    "dataframes = []\n",
    "\n",
    "# Loop through files in the folder\n",
    "for filename in sorted(os.listdir(folder_path)):\n",
    "    if filename.startswith('cluster_') and filename.endswith('.txt'):  # assuming they are .txt files\n",
    "        file_path = os.path.join(folder_path, filename)\n",
    "        df = pd.read_csv(file_path, delimiter=\"\\t\")\n",
    "        dataframes.append(df)\n",
    "\n",
    "# Check if we loaded any dataframes\n",
    "if dataframes:\n",
    "    # Print the first dataframe as an example\n",
    "    print(dataframes[0])\n",
    "else:\n",
    "    print(\"No files matched the pattern.\")\n"
   ]
  },
  {
   "cell_type": "code",
   "execution_count": 13,
   "id": "21659a4f",
   "metadata": {},
   "outputs": [
    {
     "data": {
      "text/html": [
       "<div>\n",
       "<style scoped>\n",
       "    .dataframe tbody tr th:only-of-type {\n",
       "        vertical-align: middle;\n",
       "    }\n",
       "\n",
       "    .dataframe tbody tr th {\n",
       "        vertical-align: top;\n",
       "    }\n",
       "\n",
       "    .dataframe thead th {\n",
       "        text-align: right;\n",
       "    }\n",
       "</style>\n",
       "<table border=\"1\" class=\"dataframe\">\n",
       "  <thead>\n",
       "    <tr style=\"text-align: right;\">\n",
       "      <th></th>\n",
       "      <th>sequence</th>\n",
       "      <th>FC_2_6</th>\n",
       "      <th>FC_6_12</th>\n",
       "    </tr>\n",
       "  </thead>\n",
       "  <tbody>\n",
       "    <tr>\n",
       "      <th>0</th>\n",
       "      <td>TACCCTGTAGAACCGAATTTGTG</td>\n",
       "      <td>-1.954425</td>\n",
       "      <td>-1.078278</td>\n",
       "    </tr>\n",
       "    <tr>\n",
       "      <th>1</th>\n",
       "      <td>CATCTGGGCAACTGATTGAACT</td>\n",
       "      <td>-1.344444</td>\n",
       "      <td>-1.186487</td>\n",
       "    </tr>\n",
       "    <tr>\n",
       "      <th>2</th>\n",
       "      <td>AGGTCCTCAATAAGTATTTGTT</td>\n",
       "      <td>-1.331243</td>\n",
       "      <td>-1.037213</td>\n",
       "    </tr>\n",
       "    <tr>\n",
       "      <th>3</th>\n",
       "      <td>TAAGTGCCTGCATGTATATGCG</td>\n",
       "      <td>-0.964038</td>\n",
       "      <td>-0.907717</td>\n",
       "    </tr>\n",
       "    <tr>\n",
       "      <th>4</th>\n",
       "      <td>AGGCAGTGTAGTTAGCTGATTGC</td>\n",
       "      <td>-0.950259</td>\n",
       "      <td>-0.683349</td>\n",
       "    </tr>\n",
       "    <tr>\n",
       "      <th>5</th>\n",
       "      <td>AACCCGTAGATCCGAACTTGTG</td>\n",
       "      <td>-0.825334</td>\n",
       "      <td>-0.897539</td>\n",
       "    </tr>\n",
       "    <tr>\n",
       "      <th>6</th>\n",
       "      <td>AGGTTACCCGAGCAACTTTGCAT</td>\n",
       "      <td>-0.722926</td>\n",
       "      <td>-0.987302</td>\n",
       "    </tr>\n",
       "  </tbody>\n",
       "</table>\n",
       "</div>"
      ],
      "text/plain": [
       "                  sequence    FC_2_6   FC_6_12\n",
       "0  TACCCTGTAGAACCGAATTTGTG -1.954425 -1.078278\n",
       "1   CATCTGGGCAACTGATTGAACT -1.344444 -1.186487\n",
       "2   AGGTCCTCAATAAGTATTTGTT -1.331243 -1.037213\n",
       "3   TAAGTGCCTGCATGTATATGCG -0.964038 -0.907717\n",
       "4  AGGCAGTGTAGTTAGCTGATTGC -0.950259 -0.683349\n",
       "5   AACCCGTAGATCCGAACTTGTG -0.825334 -0.897539\n",
       "6  AGGTTACCCGAGCAACTTTGCAT -0.722926 -0.987302"
      ]
     },
     "execution_count": 13,
     "metadata": {},
     "output_type": "execute_result"
    }
   ],
   "source": [
    "dataframes[0]"
   ]
  },
  {
   "cell_type": "code",
   "execution_count": 14,
   "id": "29cf51d8",
   "metadata": {},
   "outputs": [
    {
     "data": {
      "text/html": [
       "<div>\n",
       "<style scoped>\n",
       "    .dataframe tbody tr th:only-of-type {\n",
       "        vertical-align: middle;\n",
       "    }\n",
       "\n",
       "    .dataframe tbody tr th {\n",
       "        vertical-align: top;\n",
       "    }\n",
       "\n",
       "    .dataframe thead th {\n",
       "        text-align: right;\n",
       "    }\n",
       "</style>\n",
       "<table border=\"1\" class=\"dataframe\">\n",
       "  <thead>\n",
       "    <tr style=\"text-align: right;\">\n",
       "      <th></th>\n",
       "      <th>sequence</th>\n",
       "      <th>FC_2_6</th>\n",
       "      <th>FC_6_12</th>\n",
       "    </tr>\n",
       "  </thead>\n",
       "  <tbody>\n",
       "    <tr>\n",
       "      <th>0</th>\n",
       "      <td>AGCGGGCACAGCTGTGAGAGCC</td>\n",
       "      <td>-1.119025</td>\n",
       "      <td>0.845991</td>\n",
       "    </tr>\n",
       "    <tr>\n",
       "      <th>1</th>\n",
       "      <td>TCAGGCTCAGTCCCCTCCCGAT</td>\n",
       "      <td>-0.509422</td>\n",
       "      <td>-0.406089</td>\n",
       "    </tr>\n",
       "    <tr>\n",
       "      <th>2</th>\n",
       "      <td>TCGAGGAGCTCACAGTCTAGT</td>\n",
       "      <td>-0.501917</td>\n",
       "      <td>0.550314</td>\n",
       "    </tr>\n",
       "    <tr>\n",
       "      <th>3</th>\n",
       "      <td>TTTGAACCATCACTCGACTCCT</td>\n",
       "      <td>0.645608</td>\n",
       "      <td>0.444244</td>\n",
       "    </tr>\n",
       "    <tr>\n",
       "      <th>4</th>\n",
       "      <td>GTGCATTGTAGTTGCATTGCA</td>\n",
       "      <td>1.003831</td>\n",
       "      <td>-1.020228</td>\n",
       "    </tr>\n",
       "  </tbody>\n",
       "</table>\n",
       "</div>"
      ],
      "text/plain": [
       "                 sequence    FC_2_6   FC_6_12\n",
       "0  AGCGGGCACAGCTGTGAGAGCC -1.119025  0.845991\n",
       "1  TCAGGCTCAGTCCCCTCCCGAT -0.509422 -0.406089\n",
       "2   TCGAGGAGCTCACAGTCTAGT -0.501917  0.550314\n",
       "3  TTTGAACCATCACTCGACTCCT  0.645608  0.444244\n",
       "4   GTGCATTGTAGTTGCATTGCA  1.003831 -1.020228"
      ]
     },
     "execution_count": 14,
     "metadata": {},
     "output_type": "execute_result"
    }
   ],
   "source": [
    "dataframes[1]"
   ]
  },
  {
   "cell_type": "code",
   "execution_count": 15,
   "id": "fc926dbc",
   "metadata": {},
   "outputs": [
    {
     "data": {
      "text/html": [
       "<div>\n",
       "<style scoped>\n",
       "    .dataframe tbody tr th:only-of-type {\n",
       "        vertical-align: middle;\n",
       "    }\n",
       "\n",
       "    .dataframe tbody tr th {\n",
       "        vertical-align: top;\n",
       "    }\n",
       "\n",
       "    .dataframe thead th {\n",
       "        text-align: right;\n",
       "    }\n",
       "</style>\n",
       "<table border=\"1\" class=\"dataframe\">\n",
       "  <thead>\n",
       "    <tr style=\"text-align: right;\">\n",
       "      <th></th>\n",
       "      <th>sequence</th>\n",
       "      <th>FC_2_6</th>\n",
       "      <th>FC_6_12</th>\n",
       "    </tr>\n",
       "  </thead>\n",
       "  <tbody>\n",
       "    <tr>\n",
       "      <th>0</th>\n",
       "      <td>TTGCATATGTAGGATGTCCCAT</td>\n",
       "      <td>-1.389448</td>\n",
       "      <td>-1.881322</td>\n",
       "    </tr>\n",
       "    <tr>\n",
       "      <th>1</th>\n",
       "      <td>TTCATTCGGCTGTCCAGATGTA</td>\n",
       "      <td>-1.332344</td>\n",
       "      <td>-2.108564</td>\n",
       "    </tr>\n",
       "  </tbody>\n",
       "</table>\n",
       "</div>"
      ],
      "text/plain": [
       "                 sequence    FC_2_6   FC_6_12\n",
       "0  TTGCATATGTAGGATGTCCCAT -1.389448 -1.881322\n",
       "1  TTCATTCGGCTGTCCAGATGTA -1.332344 -2.108564"
      ]
     },
     "execution_count": 15,
     "metadata": {},
     "output_type": "execute_result"
    }
   ],
   "source": [
    "dataframes[2]"
   ]
  },
  {
   "cell_type": "code",
   "execution_count": 16,
   "id": "4cc7f6d3",
   "metadata": {},
   "outputs": [
    {
     "data": {
      "text/html": [
       "<div>\n",
       "<style scoped>\n",
       "    .dataframe tbody tr th:only-of-type {\n",
       "        vertical-align: middle;\n",
       "    }\n",
       "\n",
       "    .dataframe tbody tr th {\n",
       "        vertical-align: top;\n",
       "    }\n",
       "\n",
       "    .dataframe thead th {\n",
       "        text-align: right;\n",
       "    }\n",
       "</style>\n",
       "<table border=\"1\" class=\"dataframe\">\n",
       "  <thead>\n",
       "    <tr style=\"text-align: right;\">\n",
       "      <th></th>\n",
       "      <th>sequence</th>\n",
       "      <th>FC_2_6</th>\n",
       "      <th>FC_6_12</th>\n",
       "    </tr>\n",
       "  </thead>\n",
       "  <tbody>\n",
       "    <tr>\n",
       "      <th>0</th>\n",
       "      <td>TTCCCTTTGTCATCCTATGCCT</td>\n",
       "      <td>-0.724089</td>\n",
       "      <td>-0.647708</td>\n",
       "    </tr>\n",
       "    <tr>\n",
       "      <th>1</th>\n",
       "      <td>GCTGGGAAGGCAAAGGGACGT</td>\n",
       "      <td>-0.617762</td>\n",
       "      <td>-0.683519</td>\n",
       "    </tr>\n",
       "  </tbody>\n",
       "</table>\n",
       "</div>"
      ],
      "text/plain": [
       "                 sequence    FC_2_6   FC_6_12\n",
       "0  TTCCCTTTGTCATCCTATGCCT -0.724089 -0.647708\n",
       "1   GCTGGGAAGGCAAAGGGACGT -0.617762 -0.683519"
      ]
     },
     "execution_count": 16,
     "metadata": {},
     "output_type": "execute_result"
    }
   ],
   "source": [
    "dataframes[3]"
   ]
  },
  {
   "cell_type": "code",
   "execution_count": 17,
   "id": "d32b122c",
   "metadata": {},
   "outputs": [
    {
     "data": {
      "text/html": [
       "<div>\n",
       "<style scoped>\n",
       "    .dataframe tbody tr th:only-of-type {\n",
       "        vertical-align: middle;\n",
       "    }\n",
       "\n",
       "    .dataframe tbody tr th {\n",
       "        vertical-align: top;\n",
       "    }\n",
       "\n",
       "    .dataframe thead th {\n",
       "        text-align: right;\n",
       "    }\n",
       "</style>\n",
       "<table border=\"1\" class=\"dataframe\">\n",
       "  <thead>\n",
       "    <tr style=\"text-align: right;\">\n",
       "      <th></th>\n",
       "      <th>sequence</th>\n",
       "      <th>FC_2_6</th>\n",
       "      <th>FC_6_12</th>\n",
       "    </tr>\n",
       "  </thead>\n",
       "  <tbody>\n",
       "    <tr>\n",
       "      <th>0</th>\n",
       "      <td>CAAATCTTATTTGAGCACCTGT</td>\n",
       "      <td>-1.43597</td>\n",
       "      <td>-2.553652</td>\n",
       "    </tr>\n",
       "  </tbody>\n",
       "</table>\n",
       "</div>"
      ],
      "text/plain": [
       "                 sequence   FC_2_6   FC_6_12\n",
       "0  CAAATCTTATTTGAGCACCTGT -1.43597 -2.553652"
      ]
     },
     "execution_count": 17,
     "metadata": {},
     "output_type": "execute_result"
    }
   ],
   "source": [
    "dataframes[4]"
   ]
  },
  {
   "cell_type": "code",
   "execution_count": null,
   "id": "53c8a706",
   "metadata": {},
   "outputs": [],
   "source": []
  }
 ],
 "metadata": {
  "kernelspec": {
   "display_name": "Python 3 (ipykernel)",
   "language": "python",
   "name": "python3"
  },
  "language_info": {
   "codemirror_mode": {
    "name": "ipython",
    "version": 3
   },
   "file_extension": ".py",
   "mimetype": "text/x-python",
   "name": "python",
   "nbconvert_exporter": "python",
   "pygments_lexer": "ipython3",
   "version": "3.7.13"
  }
 },
 "nbformat": 4,
 "nbformat_minor": 5
}
