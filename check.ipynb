{
 "cells": [
  {
   "cell_type": "code",
   "execution_count": 1,
   "id": "f31c5a78",
   "metadata": {},
   "outputs": [],
   "source": [
    "import pandas as pd\n",
    "from pathlib import Path"
   ]
  },
  {
   "cell_type": "code",
   "execution_count": 2,
   "id": "f44a52f3",
   "metadata": {},
   "outputs": [],
   "source": [
    "path1=Path(\"/Users/zainabnazari/data_work\")"
   ]
  },
  {
   "cell_type": "code",
   "execution_count": 3,
   "id": "0a508724",
   "metadata": {},
   "outputs": [],
   "source": [
    "file_no = pd.read_csv(path1/\"only_6M_12M_mRNA_DEGs_FDR_5pc_1_5fc_filtered_Log2CPM_TMM_Norm_HtSeq_Union_paired_reads_counts_GTF_gene.txt\",delimiter='\\t')"
   ]
  },
  {
   "cell_type": "code",
   "execution_count": 8,
   "id": "0715b44a",
   "metadata": {},
   "outputs": [
    {
     "data": {
      "text/plain": [
       "0      ENSMUSG00000020660\n",
       "1      ENSMUSG00000059305\n",
       "2      ENSMUSG00000045394\n",
       "3      ENSMUSG00000115625\n",
       "4      ENSMUSG00000045337\n",
       "              ...        \n",
       "358    ENSMUSG00000003379\n",
       "359    ENSMUSG00000040592\n",
       "360    ENSMUSG00000121471\n",
       "361    ENSMUSG00000102610\n",
       "362    ENSMUSG00000142531\n",
       "Name: SampleID, Length: 363, dtype: object"
      ]
     },
     "execution_count": 8,
     "metadata": {},
     "output_type": "execute_result"
    }
   ],
   "source": [
    "file_no['SampleID']"
   ]
  },
  {
   "cell_type": "code",
   "execution_count": 9,
   "id": "1c1af951",
   "metadata": {},
   "outputs": [],
   "source": [
    "file_no['SampleID'].to_csv(path1/'list.txt', header=False,index=False)"
   ]
  },
  {
   "cell_type": "code",
   "execution_count": 13,
   "id": "6f3f2371",
   "metadata": {},
   "outputs": [],
   "source": [
    "file_61 = pd.read_csv(path1/'only_6M_12M_miRNA_DEGs_FDR_5pc_1_5fc_Bowtie1_align_miRBase_v_0_m_1_only_R1_samtools_idxstat_filtered_Log2CPM_TMM_Norm.txt', delimiter='\\t')"
   ]
  },
  {
   "cell_type": "code",
   "execution_count": 12,
   "id": "64d21eed",
   "metadata": {},
   "outputs": [
    {
     "name": "stdout",
     "output_type": "stream",
     "text": [
      "Collecting python-igraph\n",
      "  Downloading python_igraph-0.11.8-py3-none-any.whl.metadata (2.8 kB)\n",
      "INFO: pip is looking at multiple versions of python-igraph to determine which version is compatible with other requirements. This could take a while.\n",
      "  Downloading python_igraph-0.11.6-py3-none-any.whl.metadata (2.8 kB)\n",
      "  Downloading python_igraph-0.11.5-py3-none-any.whl.metadata (2.8 kB)\n",
      "  Downloading python_igraph-0.11.4-py3-none-any.whl.metadata (2.8 kB)\n",
      "  Downloading python_igraph-0.11.3-py3-none-any.whl.metadata (2.8 kB)\n",
      "  Downloading python_igraph-0.11.2-py3-none-any.whl.metadata (2.8 kB)\n",
      "  Downloading python_igraph-0.10.8-py3-none-any.whl.metadata (2.8 kB)\n",
      "Collecting igraph==0.10.8 (from python-igraph)\n",
      "  Downloading igraph-0.10.8-cp37-cp37m-macosx_10_9_x86_64.whl.metadata (3.8 kB)\n",
      "Collecting texttable>=1.6.2 (from igraph==0.10.8->python-igraph)\n",
      "  Downloading texttable-1.7.0-py2.py3-none-any.whl.metadata (9.8 kB)\n",
      "Downloading python_igraph-0.10.8-py3-none-any.whl (9.1 kB)\n",
      "Downloading igraph-0.10.8-cp37-cp37m-macosx_10_9_x86_64.whl (1.9 MB)\n",
      "\u001b[2K   \u001b[90m━━━━━━━━━━━━━━━━━━━━━━━━━━━━━━━━━━━━━━━━\u001b[0m \u001b[32m1.9/1.9 MB\u001b[0m \u001b[31m3.1 MB/s\u001b[0m eta \u001b[36m0:00:00\u001b[0ma \u001b[36m0:00:01\u001b[0m\n",
      "\u001b[?25hDownloading texttable-1.7.0-py2.py3-none-any.whl (10 kB)\n",
      "Installing collected packages: texttable, igraph, python-igraph\n",
      "Successfully installed igraph-0.10.8 python-igraph-0.10.8 texttable-1.7.0\n"
     ]
    }
   ],
   "source": [
    "!pip install python-igraph\n",
    "\n"
   ]
  },
  {
   "cell_type": "code",
   "execution_count": 15,
   "id": "7326f683",
   "metadata": {},
   "outputs": [],
   "source": [
    "import requests\n",
    "import pandas as pd\n",
    "import igraph as ig\n",
    "import matplotlib.pyplot as plt\n",
    "\n",
    "# Replace with your actual list of Ensembl Gene IDs\n",
    "ensembl_ids = list(file_no['SampleID'])  # Example genes\n",
    "\n",
    "# Define STRING API parameters\n",
    "STRING_API_URL = \"https://string-db.org/\"\n",
    "OUTPUT_FORMAT = \"tsv\"\n",
    "METHOD = \"network\""
   ]
  },
  {
   "cell_type": "code",
   "execution_count": 24,
   "id": "d84513bd",
   "metadata": {},
   "outputs": [],
   "source": [
    "# Organism (9606 = Human, change for other species)\n",
    "species = 10090\n",
    "\n",
    "# Convert list to a comma-separated string\n",
    "genes_str = \",\".join(map(str, ensembl_ids))"
   ]
  },
  {
   "cell_type": "code",
   "execution_count": 25,
   "id": "ced55759",
   "metadata": {},
   "outputs": [],
   "source": [
    "\n",
    "# Build API request URL\n",
    "request_url = f\"{STRING_API_URL}/{OUTPUT_FORMAT}/{METHOD}?identifiers={genes_str}&species={species}&network_type=functional\"\n"
   ]
  },
  {
   "cell_type": "code",
   "execution_count": 26,
   "id": "04d0077d",
   "metadata": {},
   "outputs": [],
   "source": [
    "\n",
    "# Fetch data from STRING\n",
    "response = requests.get(request_url)"
   ]
  },
  {
   "cell_type": "code",
   "execution_count": 29,
   "id": "aafa9bd1",
   "metadata": {},
   "outputs": [
    {
     "name": "stdout",
     "output_type": "stream",
     "text": [
      "Error fetching data: 404\n"
     ]
    }
   ],
   "source": [
    "\n",
    "\n",
    "\n",
    "\n",
    "\n",
    "# Check if request was successful\n",
    "if response.status_code == 200:\n",
    "    # Read the STRING interactions into a DataFrame\n",
    "    data = pd.read_csv(pd.compat.StringIO(response.text), sep=\"\\t\")\n",
    "\n",
    "    # Extract relevant columns (protein1, protein2, and combined_score)\n",
    "    interactions = data[['TP53', 'BRCA1', '982']]\n",
    "    \n",
    "    # Convert combined score to weights (scale between 0 and 1)\n",
    "    interactions['weight'] = interactions['combined_score'] / 1000\n",
    "\n",
    "    # Create an igraph graph from the DataFrame\n",
    "    g = ig.Graph.TupleList(interactions.itertuples(index=False), weights=True, directed=False)\n",
    "\n",
    "    # Plot the network\n",
    "    ig.plot(g, layout=g.layout(\"fr\"), vertex_label=g.vs[\"name\"], edge_width=[e[\"weight\"] * 5 for e in g.es])\n",
    "    \n",
    "else:\n",
    "    print(f\"Error fetching data: {response.status_code}\")\n"
   ]
  },
  {
   "cell_type": "code",
   "execution_count": null,
   "id": "681b3676",
   "metadata": {},
   "outputs": [],
   "source": []
  },
  {
   "cell_type": "code",
   "execution_count": 30,
   "id": "c66b951e",
   "metadata": {},
   "outputs": [
    {
     "ename": "AttributeError",
     "evalue": "Plotting not available; please install pycairo or cairocffi",
     "output_type": "error",
     "traceback": [
      "\u001b[0;31m---------------------------------------------------------------------------\u001b[0m",
      "\u001b[0;31mAttributeError\u001b[0m                            Traceback (most recent call last)",
      "\u001b[0;32m/var/folders/29/5b2gp7594ks0b52k909308200000gn/T/ipykernel_3581/3665779994.py\u001b[0m in \u001b[0;36m<module>\u001b[0;34m\u001b[0m\n\u001b[1;32m     22\u001b[0m \u001b[0;34m\u001b[0m\u001b[0m\n\u001b[1;32m     23\u001b[0m \u001b[0;31m# Step 3: Plot the graph\u001b[0m\u001b[0;34m\u001b[0m\u001b[0;34m\u001b[0m\u001b[0;34m\u001b[0m\u001b[0m\n\u001b[0;32m---> 24\u001b[0;31m \u001b[0mig\u001b[0m\u001b[0;34m.\u001b[0m\u001b[0mplot\u001b[0m\u001b[0;34m(\u001b[0m\u001b[0mg\u001b[0m\u001b[0;34m,\u001b[0m \u001b[0mvertex_label\u001b[0m\u001b[0;34m=\u001b[0m\u001b[0mg\u001b[0m\u001b[0;34m.\u001b[0m\u001b[0mvs\u001b[0m\u001b[0;34m[\u001b[0m\u001b[0;34m'name'\u001b[0m\u001b[0;34m]\u001b[0m\u001b[0;34m,\u001b[0m \u001b[0mvertex_size\u001b[0m\u001b[0;34m=\u001b[0m\u001b[0;36m20\u001b[0m\u001b[0;34m,\u001b[0m \u001b[0medge_arrow_size\u001b[0m\u001b[0;34m=\u001b[0m\u001b[0;36m0.5\u001b[0m\u001b[0;34m)\u001b[0m\u001b[0;34m\u001b[0m\u001b[0;34m\u001b[0m\u001b[0m\n\u001b[0m",
      "\u001b[0;32m~/opt/miniconda3/lib/python3.7/site-packages/igraph/drawing/__init__.py\u001b[0m in \u001b[0;36mplot\u001b[0;34m(obj, target, bbox, *args, **kwds)\u001b[0m\n\u001b[1;32m    298\u001b[0m         \u001b[0mbbox\u001b[0m\u001b[0;34m=\u001b[0m\u001b[0mbbox\u001b[0m\u001b[0;34m,\u001b[0m\u001b[0;34m\u001b[0m\u001b[0;34m\u001b[0m\u001b[0m\n\u001b[1;32m    299\u001b[0m         \u001b[0mpalette\u001b[0m\u001b[0;34m=\u001b[0m\u001b[0mpalette\u001b[0m\u001b[0;34m,\u001b[0m\u001b[0;34m\u001b[0m\u001b[0;34m\u001b[0m\u001b[0m\n\u001b[0;32m--> 300\u001b[0;31m         \u001b[0mbackground\u001b[0m\u001b[0;34m=\u001b[0m\u001b[0mbackground\u001b[0m\u001b[0;34m,\u001b[0m\u001b[0;34m\u001b[0m\u001b[0;34m\u001b[0m\u001b[0m\n\u001b[0m\u001b[1;32m    301\u001b[0m     )\n\u001b[1;32m    302\u001b[0m     \u001b[0mitem_bbox\u001b[0m \u001b[0;34m=\u001b[0m \u001b[0mresult\u001b[0m\u001b[0;34m.\u001b[0m\u001b[0mbbox\u001b[0m\u001b[0;34m.\u001b[0m\u001b[0mcontract\u001b[0m\u001b[0;34m(\u001b[0m\u001b[0mmargin\u001b[0m\u001b[0;34m)\u001b[0m\u001b[0;34m\u001b[0m\u001b[0;34m\u001b[0m\u001b[0m\n",
      "\u001b[0;32m~/opt/miniconda3/lib/python3.7/site-packages/igraph/drawing/cairo/plot.py\u001b[0m in \u001b[0;36m__init__\u001b[0;34m(self, target, bbox, palette, background)\u001b[0m\n\u001b[1;32m    146\u001b[0m         \u001b[0;32mif\u001b[0m \u001b[0mtarget\u001b[0m \u001b[0;32mis\u001b[0m \u001b[0;32mNone\u001b[0m\u001b[0;34m:\u001b[0m\u001b[0;34m\u001b[0m\u001b[0;34m\u001b[0m\u001b[0m\n\u001b[1;32m    147\u001b[0m             \u001b[0mself\u001b[0m\u001b[0;34m.\u001b[0m\u001b[0m_need_tmpfile\u001b[0m \u001b[0;34m=\u001b[0m \u001b[0;32mTrue\u001b[0m\u001b[0;34m\u001b[0m\u001b[0;34m\u001b[0m\u001b[0m\n\u001b[0;32m--> 148\u001b[0;31m             self._surface = cairo.ImageSurface(\n\u001b[0m\u001b[1;32m    149\u001b[0m                 \u001b[0mcairo\u001b[0m\u001b[0;34m.\u001b[0m\u001b[0mFORMAT_ARGB32\u001b[0m\u001b[0;34m,\u001b[0m \u001b[0mint\u001b[0m\u001b[0;34m(\u001b[0m\u001b[0mself\u001b[0m\u001b[0;34m.\u001b[0m\u001b[0mbbox\u001b[0m\u001b[0;34m.\u001b[0m\u001b[0mwidth\u001b[0m\u001b[0;34m)\u001b[0m\u001b[0;34m,\u001b[0m \u001b[0mint\u001b[0m\u001b[0;34m(\u001b[0m\u001b[0mself\u001b[0m\u001b[0;34m.\u001b[0m\u001b[0mbbox\u001b[0m\u001b[0;34m.\u001b[0m\u001b[0mheight\u001b[0m\u001b[0;34m)\u001b[0m\u001b[0;34m\u001b[0m\u001b[0;34m\u001b[0m\u001b[0m\n\u001b[1;32m    150\u001b[0m             )\n",
      "\u001b[0;32m~/opt/miniconda3/lib/python3.7/site-packages/igraph/drawing/utils.py\u001b[0m in \u001b[0;36m__getattr__\u001b[0;34m(self, _)\u001b[0m\n\u001b[1;32m    426\u001b[0m \u001b[0;34m\u001b[0m\u001b[0m\n\u001b[1;32m    427\u001b[0m     \u001b[0;32mdef\u001b[0m \u001b[0m__getattr__\u001b[0m\u001b[0;34m(\u001b[0m\u001b[0mself\u001b[0m\u001b[0;34m,\u001b[0m \u001b[0m_\u001b[0m\u001b[0;34m)\u001b[0m\u001b[0;34m:\u001b[0m\u001b[0;34m\u001b[0m\u001b[0;34m\u001b[0m\u001b[0m\n\u001b[0;32m--> 428\u001b[0;31m         \u001b[0;32mraise\u001b[0m \u001b[0mAttributeError\u001b[0m\u001b[0;34m(\u001b[0m\u001b[0mself\u001b[0m\u001b[0;34m.\u001b[0m\u001b[0m_message\u001b[0m\u001b[0;34m)\u001b[0m\u001b[0;34m\u001b[0m\u001b[0;34m\u001b[0m\u001b[0m\n\u001b[0m\u001b[1;32m    429\u001b[0m \u001b[0;34m\u001b[0m\u001b[0m\n\u001b[1;32m    430\u001b[0m     \u001b[0;32mdef\u001b[0m \u001b[0m__call__\u001b[0m\u001b[0;34m(\u001b[0m\u001b[0mself\u001b[0m\u001b[0;34m,\u001b[0m \u001b[0m_\u001b[0m\u001b[0;34m)\u001b[0m\u001b[0;34m:\u001b[0m\u001b[0;34m\u001b[0m\u001b[0;34m\u001b[0m\u001b[0m\n",
      "\u001b[0;31mAttributeError\u001b[0m: Plotting not available; please install pycairo or cairocffi"
     ]
    }
   ],
   "source": [
    "import igraph as ig\n",
    "\n",
    "# Step 1: Prepare your data\n",
    "# Example list of ensemble gene IDs\n",
    "gene_ids = ['ENSG000001', 'ENSG000002', 'ENSG000003', 'ENSG000004']\n",
    "\n",
    "# Example edges between genes (these should represent some relationship)\n",
    "edges = [('ENSG000001', 'ENSG000002'),\n",
    "         ('ENSG000001', 'ENSG000003'),\n",
    "         ('ENSG000002', 'ENSG000004')]\n",
    "\n",
    "# Step 2: Create a graph\n",
    "# Create a graph object\n",
    "g = ig.Graph()\n",
    "\n",
    "# Add vertices (gene IDs)\n",
    "g.add_vertices(gene_ids)\n",
    "\n",
    "# Add edges\n",
    "# Ensure the gene IDs in edges are part of the vertices\n",
    "g.add_edges(edges)\n",
    "\n",
    "# Step 3: Plot the graph\n",
    "ig.plot(g, vertex_label=g.vs['name'], vertex_size=20, edge_arrow_size=0.5)\n"
   ]
  },
  {
   "cell_type": "code",
   "execution_count": null,
   "id": "f618c343",
   "metadata": {},
   "outputs": [],
   "source": []
  },
  {
   "cell_type": "code",
   "execution_count": null,
   "id": "d4b6cf21",
   "metadata": {},
   "outputs": [],
   "source": []
  },
  {
   "cell_type": "code",
   "execution_count": null,
   "id": "a6ff4ac3",
   "metadata": {},
   "outputs": [],
   "source": []
  },
  {
   "cell_type": "code",
   "execution_count": null,
   "id": "408c5f58",
   "metadata": {},
   "outputs": [],
   "source": []
  },
  {
   "cell_type": "code",
   "execution_count": null,
   "id": "51bf27f6",
   "metadata": {},
   "outputs": [],
   "source": []
  },
  {
   "cell_type": "code",
   "execution_count": 14,
   "id": "d652d113",
   "metadata": {},
   "outputs": [
    {
     "data": {
      "text/html": [
       "<div>\n",
       "<style scoped>\n",
       "    .dataframe tbody tr th:only-of-type {\n",
       "        vertical-align: middle;\n",
       "    }\n",
       "\n",
       "    .dataframe tbody tr th {\n",
       "        vertical-align: top;\n",
       "    }\n",
       "\n",
       "    .dataframe thead th {\n",
       "        text-align: right;\n",
       "    }\n",
       "</style>\n",
       "<table border=\"1\" class=\"dataframe\">\n",
       "  <thead>\n",
       "    <tr style=\"text-align: right;\">\n",
       "      <th></th>\n",
       "      <th>SampleID</th>\n",
       "      <th>6M_CD_S315</th>\n",
       "      <th>6M_HL_S316</th>\n",
       "      <th>6M_MN_S317</th>\n",
       "      <th>6M_OP_S318</th>\n",
       "      <th>6M_QR_S319</th>\n",
       "      <th>6M_ST_S320</th>\n",
       "      <th>12M_AB_S321</th>\n",
       "      <th>12M_CD_S322</th>\n",
       "      <th>12M_EF_S323</th>\n",
       "      <th>12M_GH_S324</th>\n",
       "      <th>12M_IJ_S325</th>\n",
       "      <th>12M_KL_S326</th>\n",
       "    </tr>\n",
       "  </thead>\n",
       "  <tbody>\n",
       "    <tr>\n",
       "      <th>0</th>\n",
       "      <td>mmu-miR-1264-3p</td>\n",
       "      <td>9.687629</td>\n",
       "      <td>11.883774</td>\n",
       "      <td>11.778448</td>\n",
       "      <td>11.194754</td>\n",
       "      <td>11.311906</td>\n",
       "      <td>11.122253</td>\n",
       "      <td>9.138035</td>\n",
       "      <td>8.830678</td>\n",
       "      <td>8.681971</td>\n",
       "      <td>9.497815</td>\n",
       "      <td>8.823775</td>\n",
       "      <td>8.394148</td>\n",
       "    </tr>\n",
       "    <tr>\n",
       "      <th>1</th>\n",
       "      <td>mmu-miR-1298-5p</td>\n",
       "      <td>10.490571</td>\n",
       "      <td>12.217356</td>\n",
       "      <td>11.942825</td>\n",
       "      <td>11.489104</td>\n",
       "      <td>11.331554</td>\n",
       "      <td>11.173579</td>\n",
       "      <td>9.589777</td>\n",
       "      <td>9.583212</td>\n",
       "      <td>9.120731</td>\n",
       "      <td>10.518709</td>\n",
       "      <td>9.362863</td>\n",
       "      <td>8.877956</td>\n",
       "    </tr>\n",
       "    <tr>\n",
       "      <th>2</th>\n",
       "      <td>mmu-miR-5099</td>\n",
       "      <td>2.648121</td>\n",
       "      <td>4.850137</td>\n",
       "      <td>3.865312</td>\n",
       "      <td>5.400656</td>\n",
       "      <td>4.509685</td>\n",
       "      <td>4.998824</td>\n",
       "      <td>3.456963</td>\n",
       "      <td>2.743877</td>\n",
       "      <td>2.856106</td>\n",
       "      <td>2.509578</td>\n",
       "      <td>2.484597</td>\n",
       "      <td>2.145687</td>\n",
       "    </tr>\n",
       "    <tr>\n",
       "      <th>3</th>\n",
       "      <td>mmu-miR-448-3p</td>\n",
       "      <td>7.938014</td>\n",
       "      <td>9.217713</td>\n",
       "      <td>8.906007</td>\n",
       "      <td>8.180803</td>\n",
       "      <td>8.663388</td>\n",
       "      <td>8.308246</td>\n",
       "      <td>6.858872</td>\n",
       "      <td>6.861356</td>\n",
       "      <td>6.616046</td>\n",
       "      <td>7.587441</td>\n",
       "      <td>6.595774</td>\n",
       "      <td>6.597387</td>\n",
       "    </tr>\n",
       "    <tr>\n",
       "      <th>4</th>\n",
       "      <td>mmu-miR-20a-3p</td>\n",
       "      <td>2.199721</td>\n",
       "      <td>4.975961</td>\n",
       "      <td>5.387412</td>\n",
       "      <td>5.502184</td>\n",
       "      <td>5.291638</td>\n",
       "      <td>2.756381</td>\n",
       "      <td>4.325130</td>\n",
       "      <td>3.349624</td>\n",
       "      <td>2.507817</td>\n",
       "      <td>3.028898</td>\n",
       "      <td>2.252924</td>\n",
       "      <td>2.947137</td>\n",
       "    </tr>\n",
       "    <tr>\n",
       "      <th>...</th>\n",
       "      <td>...</td>\n",
       "      <td>...</td>\n",
       "      <td>...</td>\n",
       "      <td>...</td>\n",
       "      <td>...</td>\n",
       "      <td>...</td>\n",
       "      <td>...</td>\n",
       "      <td>...</td>\n",
       "      <td>...</td>\n",
       "      <td>...</td>\n",
       "      <td>...</td>\n",
       "      <td>...</td>\n",
       "      <td>...</td>\n",
       "    </tr>\n",
       "    <tr>\n",
       "      <th>56</th>\n",
       "      <td>mmu-miR-874-3p</td>\n",
       "      <td>8.096462</td>\n",
       "      <td>6.457200</td>\n",
       "      <td>6.872207</td>\n",
       "      <td>7.407734</td>\n",
       "      <td>6.298491</td>\n",
       "      <td>7.322416</td>\n",
       "      <td>8.124092</td>\n",
       "      <td>8.275673</td>\n",
       "      <td>8.277916</td>\n",
       "      <td>8.296745</td>\n",
       "      <td>8.191097</td>\n",
       "      <td>8.137713</td>\n",
       "    </tr>\n",
       "    <tr>\n",
       "      <th>57</th>\n",
       "      <td>mmu-miR-491-5p</td>\n",
       "      <td>4.826458</td>\n",
       "      <td>2.966234</td>\n",
       "      <td>4.677634</td>\n",
       "      <td>4.457272</td>\n",
       "      <td>2.616025</td>\n",
       "      <td>4.080345</td>\n",
       "      <td>4.926115</td>\n",
       "      <td>5.292914</td>\n",
       "      <td>5.024781</td>\n",
       "      <td>5.021597</td>\n",
       "      <td>5.262794</td>\n",
       "      <td>5.646157</td>\n",
       "    </tr>\n",
       "    <tr>\n",
       "      <th>58</th>\n",
       "      <td>mmu-miR-92b-5p</td>\n",
       "      <td>5.833114</td>\n",
       "      <td>4.658695</td>\n",
       "      <td>4.971026</td>\n",
       "      <td>2.875250</td>\n",
       "      <td>3.434719</td>\n",
       "      <td>4.517470</td>\n",
       "      <td>5.561759</td>\n",
       "      <td>5.802337</td>\n",
       "      <td>5.775109</td>\n",
       "      <td>5.682013</td>\n",
       "      <td>5.936092</td>\n",
       "      <td>6.094695</td>\n",
       "    </tr>\n",
       "    <tr>\n",
       "      <th>59</th>\n",
       "      <td>mmu-miR-770-5p</td>\n",
       "      <td>7.362103</td>\n",
       "      <td>4.631137</td>\n",
       "      <td>6.575542</td>\n",
       "      <td>6.715974</td>\n",
       "      <td>4.258353</td>\n",
       "      <td>5.510334</td>\n",
       "      <td>7.100339</td>\n",
       "      <td>7.340368</td>\n",
       "      <td>7.490075</td>\n",
       "      <td>7.387850</td>\n",
       "      <td>7.435542</td>\n",
       "      <td>7.844091</td>\n",
       "    </tr>\n",
       "    <tr>\n",
       "      <th>60</th>\n",
       "      <td>mmu-miR-323-5p</td>\n",
       "      <td>5.413029</td>\n",
       "      <td>4.138485</td>\n",
       "      <td>4.706912</td>\n",
       "      <td>4.732650</td>\n",
       "      <td>-1.295453</td>\n",
       "      <td>3.933910</td>\n",
       "      <td>5.072076</td>\n",
       "      <td>5.894223</td>\n",
       "      <td>5.948384</td>\n",
       "      <td>5.245876</td>\n",
       "      <td>6.462896</td>\n",
       "      <td>6.785866</td>\n",
       "    </tr>\n",
       "  </tbody>\n",
       "</table>\n",
       "<p>61 rows × 13 columns</p>\n",
       "</div>"
      ],
      "text/plain": [
       "           SampleID  6M_CD_S315  6M_HL_S316  6M_MN_S317  6M_OP_S318  \\\n",
       "0   mmu-miR-1264-3p    9.687629   11.883774   11.778448   11.194754   \n",
       "1   mmu-miR-1298-5p   10.490571   12.217356   11.942825   11.489104   \n",
       "2      mmu-miR-5099    2.648121    4.850137    3.865312    5.400656   \n",
       "3    mmu-miR-448-3p    7.938014    9.217713    8.906007    8.180803   \n",
       "4    mmu-miR-20a-3p    2.199721    4.975961    5.387412    5.502184   \n",
       "..              ...         ...         ...         ...         ...   \n",
       "56   mmu-miR-874-3p    8.096462    6.457200    6.872207    7.407734   \n",
       "57   mmu-miR-491-5p    4.826458    2.966234    4.677634    4.457272   \n",
       "58   mmu-miR-92b-5p    5.833114    4.658695    4.971026    2.875250   \n",
       "59   mmu-miR-770-5p    7.362103    4.631137    6.575542    6.715974   \n",
       "60   mmu-miR-323-5p    5.413029    4.138485    4.706912    4.732650   \n",
       "\n",
       "    6M_QR_S319  6M_ST_S320  12M_AB_S321  12M_CD_S322  12M_EF_S323  \\\n",
       "0    11.311906   11.122253     9.138035     8.830678     8.681971   \n",
       "1    11.331554   11.173579     9.589777     9.583212     9.120731   \n",
       "2     4.509685    4.998824     3.456963     2.743877     2.856106   \n",
       "3     8.663388    8.308246     6.858872     6.861356     6.616046   \n",
       "4     5.291638    2.756381     4.325130     3.349624     2.507817   \n",
       "..         ...         ...          ...          ...          ...   \n",
       "56    6.298491    7.322416     8.124092     8.275673     8.277916   \n",
       "57    2.616025    4.080345     4.926115     5.292914     5.024781   \n",
       "58    3.434719    4.517470     5.561759     5.802337     5.775109   \n",
       "59    4.258353    5.510334     7.100339     7.340368     7.490075   \n",
       "60   -1.295453    3.933910     5.072076     5.894223     5.948384   \n",
       "\n",
       "    12M_GH_S324  12M_IJ_S325  12M_KL_S326  \n",
       "0      9.497815     8.823775     8.394148  \n",
       "1     10.518709     9.362863     8.877956  \n",
       "2      2.509578     2.484597     2.145687  \n",
       "3      7.587441     6.595774     6.597387  \n",
       "4      3.028898     2.252924     2.947137  \n",
       "..          ...          ...          ...  \n",
       "56     8.296745     8.191097     8.137713  \n",
       "57     5.021597     5.262794     5.646157  \n",
       "58     5.682013     5.936092     6.094695  \n",
       "59     7.387850     7.435542     7.844091  \n",
       "60     5.245876     6.462896     6.785866  \n",
       "\n",
       "[61 rows x 13 columns]"
      ]
     },
     "execution_count": 14,
     "metadata": {},
     "output_type": "execute_result"
    }
   ],
   "source": [
    "file_61"
   ]
  },
  {
   "cell_type": "code",
   "execution_count": null,
   "id": "a3dd610f",
   "metadata": {},
   "outputs": [],
   "source": []
  },
  {
   "cell_type": "code",
   "execution_count": 17,
   "id": "1ecd0da0",
   "metadata": {},
   "outputs": [],
   "source": [
    "from IPython.display import display"
   ]
  },
  {
   "cell_type": "code",
   "execution_count": 28,
   "id": "66411265",
   "metadata": {},
   "outputs": [],
   "source": [
    "file_result = pd.read_csv(\"miRNA_targets_results.csv\",delimiter=',')\n"
   ]
  },
  {
   "cell_type": "code",
   "execution_count": 30,
   "id": "555ed4f8",
   "metadata": {},
   "outputs": [],
   "source": [
    "pd.set_option('display.max_rows', None)"
   ]
  },
  {
   "cell_type": "code",
   "execution_count": 31,
   "id": "4204f0d6",
   "metadata": {},
   "outputs": [],
   "source": [
    "pd.set_option('display.max_columns', None)"
   ]
  },
  {
   "cell_type": "code",
   "execution_count": 4,
   "id": "6079272d",
   "metadata": {},
   "outputs": [
    {
     "name": "stdout",
     "output_type": "stream",
     "text": [
      "/Users/zainabnazari/opt/miniconda3/bin/python\n"
     ]
    }
   ],
   "source": [
    "import sys\n",
    "print(sys.executable)"
   ]
  },
  {
   "cell_type": "code",
   "execution_count": 5,
   "id": "95740dea",
   "metadata": {},
   "outputs": [
    {
     "name": "stdout",
     "output_type": "stream",
     "text": [
      "/Users/zainabnazari/opt/miniconda3/bin/python\n",
      "3.5.17\n"
     ]
    }
   ],
   "source": [
    "import sys\n",
    "print(sys.executable)\n",
    "import rpy2\n",
    "print(rpy2.__version__)"
   ]
  },
  {
   "cell_type": "code",
   "execution_count": 2,
   "id": "4b888801",
   "metadata": {},
   "outputs": [
    {
     "name": "stdout",
     "output_type": "stream",
     "text": [
      "Requirement already satisfied: rpy2 in /Users/zainabnazari/opt/miniconda3/lib/python3.7/site-packages (3.5.17)\n",
      "Requirement already satisfied: cffi>=1.15.1 in /Users/zainabnazari/opt/miniconda3/lib/python3.7/site-packages (from rpy2) (1.15.1)\n",
      "Requirement already satisfied: jinja2 in /Users/zainabnazari/opt/miniconda3/lib/python3.7/site-packages (from rpy2) (3.0.3)\n",
      "Requirement already satisfied: tzlocal in /Users/zainabnazari/opt/miniconda3/lib/python3.7/site-packages (from rpy2) (5.1)\n",
      "Requirement already satisfied: typing-extensions in /Users/zainabnazari/opt/miniconda3/lib/python3.7/site-packages (from rpy2) (4.1.1)\n",
      "Requirement already satisfied: backports.zoneinfo in /Users/zainabnazari/opt/miniconda3/lib/python3.7/site-packages (from rpy2) (0.2.1)\n",
      "Requirement already satisfied: pycparser in /Users/zainabnazari/opt/miniconda3/lib/python3.7/site-packages (from cffi>=1.15.1->rpy2) (2.21)\n",
      "Requirement already satisfied: MarkupSafe>=2.0 in /Users/zainabnazari/opt/miniconda3/lib/python3.7/site-packages (from jinja2->rpy2) (2.1.1)\n",
      "Note: you may need to restart the kernel to use updated packages.\n"
     ]
    }
   ],
   "source": [
    "%pip install rpy2"
   ]
  },
  {
   "cell_type": "code",
   "execution_count": 6,
   "id": "5687f2c5",
   "metadata": {},
   "outputs": [
    {
     "ename": "NotImplementedError",
     "evalue": "Conversion 'py2rpy' not defined for objects of type '<class 'rpy2.robjects.R'>'",
     "output_type": "error",
     "traceback": [
      "\u001b[0;31m---------------------------------------------------------------------------\u001b[0m",
      "\u001b[0;31mNotImplementedError\u001b[0m                       Traceback (most recent call last)",
      "\u001b[0;32m/var/folders/29/5b2gp7594ks0b52k909308200000gn/T/ipykernel_21809/1034455359.py\u001b[0m in \u001b[0;36m<module>\u001b[0;34m\u001b[0m\n\u001b[1;32m      8\u001b[0m \u001b[0;31m# Install and load the multiMiR package\u001b[0m\u001b[0;34m\u001b[0m\u001b[0;34m\u001b[0m\u001b[0;34m\u001b[0m\u001b[0m\n\u001b[1;32m      9\u001b[0m \u001b[0mutils\u001b[0m \u001b[0;34m=\u001b[0m \u001b[0mimportr\u001b[0m\u001b[0;34m(\u001b[0m\u001b[0;34m'utils'\u001b[0m\u001b[0;34m)\u001b[0m\u001b[0;34m\u001b[0m\u001b[0;34m\u001b[0m\u001b[0m\n\u001b[0;32m---> 10\u001b[0;31m \u001b[0mutils\u001b[0m\u001b[0;34m.\u001b[0m\u001b[0mchooseCRANmirror\u001b[0m\u001b[0;34m(\u001b[0m\u001b[0mr\u001b[0m\u001b[0;34m=\u001b[0m\u001b[0mrobjects\u001b[0m\u001b[0;34m.\u001b[0m\u001b[0mr\u001b[0m\u001b[0;34m)\u001b[0m\u001b[0;34m\u001b[0m\u001b[0;34m\u001b[0m\u001b[0m\n\u001b[0m\u001b[1;32m     11\u001b[0m \u001b[0mutils\u001b[0m\u001b[0;34m.\u001b[0m\u001b[0minstall_packages\u001b[0m\u001b[0;34m(\u001b[0m\u001b[0;34m'multiMiR'\u001b[0m\u001b[0;34m)\u001b[0m\u001b[0;34m\u001b[0m\u001b[0;34m\u001b[0m\u001b[0m\n\u001b[1;32m     12\u001b[0m \u001b[0mmultiMiR\u001b[0m \u001b[0;34m=\u001b[0m \u001b[0mimportr\u001b[0m\u001b[0;34m(\u001b[0m\u001b[0;34m'multiMiR'\u001b[0m\u001b[0;34m)\u001b[0m\u001b[0;34m\u001b[0m\u001b[0;34m\u001b[0m\u001b[0m\n",
      "\u001b[0;32m~/opt/miniconda3/lib/python3.7/site-packages/rpy2/robjects/functions.py\u001b[0m in \u001b[0;36m__call__\u001b[0;34m(self, *args, **kwargs)\u001b[0m\n\u001b[1;32m    207\u001b[0m                 \u001b[0mkwargs\u001b[0m\u001b[0;34m[\u001b[0m\u001b[0mr_k\u001b[0m\u001b[0;34m]\u001b[0m \u001b[0;34m=\u001b[0m \u001b[0mv\u001b[0m\u001b[0;34m\u001b[0m\u001b[0;34m\u001b[0m\u001b[0m\n\u001b[1;32m    208\u001b[0m         return (super(SignatureTranslatedFunction, self)\n\u001b[0;32m--> 209\u001b[0;31m                 .__call__(*args, **kwargs))\n\u001b[0m\u001b[1;32m    210\u001b[0m \u001b[0;34m\u001b[0m\u001b[0m\n\u001b[1;32m    211\u001b[0m \u001b[0;34m\u001b[0m\u001b[0m\n",
      "\u001b[0;32m~/opt/miniconda3/lib/python3.7/site-packages/rpy2/robjects/functions.py\u001b[0m in \u001b[0;36m__call__\u001b[0;34m(self, *args, **kwargs)\u001b[0m\n\u001b[1;32m    128\u001b[0m                 \u001b[0mnew_kwargs\u001b[0m\u001b[0;34m[\u001b[0m\u001b[0mk\u001b[0m\u001b[0;34m]\u001b[0m \u001b[0;34m=\u001b[0m \u001b[0mv\u001b[0m\u001b[0;34m\u001b[0m\u001b[0;34m\u001b[0m\u001b[0m\n\u001b[1;32m    129\u001b[0m             \u001b[0;32melse\u001b[0m\u001b[0;34m:\u001b[0m\u001b[0;34m\u001b[0m\u001b[0;34m\u001b[0m\u001b[0m\n\u001b[0;32m--> 130\u001b[0;31m                 \u001b[0mnew_kwargs\u001b[0m\u001b[0;34m[\u001b[0m\u001b[0mk\u001b[0m\u001b[0;34m]\u001b[0m \u001b[0;34m=\u001b[0m \u001b[0mcv\u001b[0m\u001b[0;34m.\u001b[0m\u001b[0mpy2rpy\u001b[0m\u001b[0;34m(\u001b[0m\u001b[0mv\u001b[0m\u001b[0;34m)\u001b[0m\u001b[0;34m\u001b[0m\u001b[0;34m\u001b[0m\u001b[0m\n\u001b[0m\u001b[1;32m    131\u001b[0m         \u001b[0mres\u001b[0m \u001b[0;34m=\u001b[0m \u001b[0msuper\u001b[0m\u001b[0;34m(\u001b[0m\u001b[0mFunction\u001b[0m\u001b[0;34m,\u001b[0m \u001b[0mself\u001b[0m\u001b[0;34m)\u001b[0m\u001b[0;34m.\u001b[0m\u001b[0m__call__\u001b[0m\u001b[0;34m(\u001b[0m\u001b[0;34m*\u001b[0m\u001b[0mnew_args\u001b[0m\u001b[0;34m,\u001b[0m \u001b[0;34m**\u001b[0m\u001b[0mnew_kwargs\u001b[0m\u001b[0;34m)\u001b[0m\u001b[0;34m\u001b[0m\u001b[0;34m\u001b[0m\u001b[0m\n\u001b[1;32m    132\u001b[0m         \u001b[0mres\u001b[0m \u001b[0;34m=\u001b[0m \u001b[0mcv\u001b[0m\u001b[0;34m.\u001b[0m\u001b[0mrpy2py\u001b[0m\u001b[0;34m(\u001b[0m\u001b[0mres\u001b[0m\u001b[0;34m)\u001b[0m\u001b[0;34m\u001b[0m\u001b[0;34m\u001b[0m\u001b[0m\n",
      "\u001b[0;32m~/opt/miniconda3/lib/python3.7/functools.py\u001b[0m in \u001b[0;36mwrapper\u001b[0;34m(*args, **kw)\u001b[0m\n\u001b[1;32m    838\u001b[0m                             '1 positional argument')\n\u001b[1;32m    839\u001b[0m \u001b[0;34m\u001b[0m\u001b[0m\n\u001b[0;32m--> 840\u001b[0;31m         \u001b[0;32mreturn\u001b[0m \u001b[0mdispatch\u001b[0m\u001b[0;34m(\u001b[0m\u001b[0margs\u001b[0m\u001b[0;34m[\u001b[0m\u001b[0;36m0\u001b[0m\u001b[0;34m]\u001b[0m\u001b[0;34m.\u001b[0m\u001b[0m__class__\u001b[0m\u001b[0;34m)\u001b[0m\u001b[0;34m(\u001b[0m\u001b[0;34m*\u001b[0m\u001b[0margs\u001b[0m\u001b[0;34m,\u001b[0m \u001b[0;34m**\u001b[0m\u001b[0mkw\u001b[0m\u001b[0;34m)\u001b[0m\u001b[0;34m\u001b[0m\u001b[0;34m\u001b[0m\u001b[0m\n\u001b[0m\u001b[1;32m    841\u001b[0m \u001b[0;34m\u001b[0m\u001b[0m\n\u001b[1;32m    842\u001b[0m     \u001b[0mfuncname\u001b[0m \u001b[0;34m=\u001b[0m \u001b[0mgetattr\u001b[0m\u001b[0;34m(\u001b[0m\u001b[0mfunc\u001b[0m\u001b[0;34m,\u001b[0m \u001b[0;34m'__name__'\u001b[0m\u001b[0;34m,\u001b[0m \u001b[0;34m'singledispatch function'\u001b[0m\u001b[0;34m)\u001b[0m\u001b[0;34m\u001b[0m\u001b[0;34m\u001b[0m\u001b[0m\n",
      "\u001b[0;32m~/opt/miniconda3/lib/python3.7/site-packages/rpy2/robjects/conversion.py\u001b[0m in \u001b[0;36m_py2rpy\u001b[0;34m(obj)\u001b[0m\n\u001b[1;32m    240\u001b[0m     raise NotImplementedError(\n\u001b[1;32m    241\u001b[0m         \u001b[0;34m\"Conversion 'py2rpy' not defined for objects of type '%s'\"\u001b[0m \u001b[0;34m%\u001b[0m\u001b[0;34m\u001b[0m\u001b[0;34m\u001b[0m\u001b[0m\n\u001b[0;32m--> 242\u001b[0;31m         \u001b[0mstr\u001b[0m\u001b[0;34m(\u001b[0m\u001b[0mtype\u001b[0m\u001b[0;34m(\u001b[0m\u001b[0mobj\u001b[0m\u001b[0;34m)\u001b[0m\u001b[0;34m)\u001b[0m\u001b[0;34m\u001b[0m\u001b[0;34m\u001b[0m\u001b[0m\n\u001b[0m\u001b[1;32m    243\u001b[0m     )\n\u001b[1;32m    244\u001b[0m \u001b[0;34m\u001b[0m\u001b[0m\n",
      "\u001b[0;31mNotImplementedError\u001b[0m: Conversion 'py2rpy' not defined for objects of type '<class 'rpy2.robjects.R'>'"
     ]
    }
   ],
   "source": [
    "import rpy2.robjects as robjects\n",
    "from rpy2.robjects import pandas2ri\n",
    "pandas2ri.activate() #activate pandas conversion.\n",
    "r_df = robjects.r['your_r_dataframe'] #get your r dataframe\n",
    "py_df = pandas2ri.ri2py(r_df) #convert r dataframe to pandas dataframe.\n",
    "print(type(py_df))\n",
    "\n",
    "# Initialize R\n",
    "robjects.r['options'](warn=-1)  # Suppress warnings\n",
    "\n",
    "# Install and load the multiMiR package\n",
    "utils = importr('utils')\n",
    "utils.chooseCRANmirror(r=robjects.r)\n",
    "utils.install_packages('multiMiR')\n",
    "multiMiR = importr('multiMiR')\n",
    "\n",
    "# Define miRNA and databases\n",
    "mirna = \"mmu-miR-187-3p\"\n",
    "predicted_dbs = robjects.StrVector([\n",
    "    \"diana_microt\", \"elmmo\", \"microcosm\", \"miranda\", \"mirdb\", \"pictar\", \"pita\", \"targetscan\"\n",
    "])\n",
    "\n",
    "# Function to get targets from a database\n",
    "def get_targets_from_db(mirna, db):\n",
    "    result = multiMiR.get_multimir(org=\"mmu\", mirna=mirna, table=db)\n",
    "    if not robjects.r.is_null(result):\n",
    "        data = robjects.r.slot(result, \"data\")\n",
    "        if not robjects.r.is_null(data) and robjects.r(\"nrow\")(data)[0] > 0:\n",
    "            return robjects.r.slot(data, \"mRNA_Gene\")\n",
    "    return robjects.StrVector([])\n",
    "\n",
    "# Get targets from all predicted databases\n",
    "all_targets = set()\n",
    "for db in predicted_dbs:\n",
    "    targets = get_targets_from_db(mirna, db)\n",
    "    all_targets.update(list(targets))\n",
    "\n",
    "# Print results\n",
    "print(f\"Number of predicted targets for {mirna}: {len(all_targets)}\")\n",
    "#if len(all_targets) < 50: # if there are not too many genes, print them.\n",
    "#  print(f\"Predicted targets: {all_targets}\")"
   ]
  },
  {
   "cell_type": "code",
   "execution_count": 7,
   "id": "c723cf83",
   "metadata": {},
   "outputs": [
    {
     "ename": "KeyError",
     "evalue": "\"'your_r_dataframe' not found\"",
     "output_type": "error",
     "traceback": [
      "\u001b[0;31m---------------------------------------------------------------------------\u001b[0m",
      "\u001b[0;31mKeyError\u001b[0m                                  Traceback (most recent call last)",
      "\u001b[0;32m/var/folders/29/5b2gp7594ks0b52k909308200000gn/T/ipykernel_21809/3674774183.py\u001b[0m in \u001b[0;36m<module>\u001b[0;34m\u001b[0m\n\u001b[1;32m      2\u001b[0m \u001b[0;32mfrom\u001b[0m \u001b[0mrpy2\u001b[0m\u001b[0;34m.\u001b[0m\u001b[0mrobjects\u001b[0m \u001b[0;32mimport\u001b[0m \u001b[0mpandas2ri\u001b[0m\u001b[0;34m\u001b[0m\u001b[0;34m\u001b[0m\u001b[0m\n\u001b[1;32m      3\u001b[0m \u001b[0mpandas2ri\u001b[0m\u001b[0;34m.\u001b[0m\u001b[0mactivate\u001b[0m\u001b[0;34m(\u001b[0m\u001b[0;34m)\u001b[0m \u001b[0;31m#activate pandas conversion.\u001b[0m\u001b[0;34m\u001b[0m\u001b[0;34m\u001b[0m\u001b[0m\n\u001b[0;32m----> 4\u001b[0;31m \u001b[0mr_df\u001b[0m \u001b[0;34m=\u001b[0m \u001b[0mrobjects\u001b[0m\u001b[0;34m.\u001b[0m\u001b[0mr\u001b[0m\u001b[0;34m[\u001b[0m\u001b[0;34m'your_r_dataframe'\u001b[0m\u001b[0;34m]\u001b[0m \u001b[0;31m#get your r dataframe\u001b[0m\u001b[0;34m\u001b[0m\u001b[0;34m\u001b[0m\u001b[0m\n\u001b[0m\u001b[1;32m      5\u001b[0m \u001b[0mpy_df\u001b[0m \u001b[0;34m=\u001b[0m \u001b[0mpandas2ri\u001b[0m\u001b[0;34m.\u001b[0m\u001b[0mri2py\u001b[0m\u001b[0;34m(\u001b[0m\u001b[0mr_df\u001b[0m\u001b[0;34m)\u001b[0m \u001b[0;31m#convert r dataframe to pandas dataframe.\u001b[0m\u001b[0;34m\u001b[0m\u001b[0;34m\u001b[0m\u001b[0m\n\u001b[1;32m      6\u001b[0m \u001b[0mprint\u001b[0m\u001b[0;34m(\u001b[0m\u001b[0mtype\u001b[0m\u001b[0;34m(\u001b[0m\u001b[0mpy_df\u001b[0m\u001b[0;34m)\u001b[0m\u001b[0;34m)\u001b[0m\u001b[0;34m\u001b[0m\u001b[0;34m\u001b[0m\u001b[0m\n",
      "\u001b[0;32m~/opt/miniconda3/lib/python3.7/site-packages/rpy2/robjects/__init__.py\u001b[0m in \u001b[0;36m__getitem__\u001b[0;34m(self, item)\u001b[0m\n\u001b[1;32m    465\u001b[0m \u001b[0;34m\u001b[0m\u001b[0m\n\u001b[1;32m    466\u001b[0m     \u001b[0;32mdef\u001b[0m \u001b[0m__getitem__\u001b[0m\u001b[0;34m(\u001b[0m\u001b[0mself\u001b[0m\u001b[0;34m,\u001b[0m \u001b[0mitem\u001b[0m\u001b[0;34m:\u001b[0m \u001b[0mstr\u001b[0m\u001b[0;34m)\u001b[0m \u001b[0;34m->\u001b[0m \u001b[0mobject\u001b[0m\u001b[0;34m:\u001b[0m\u001b[0;34m\u001b[0m\u001b[0;34m\u001b[0m\u001b[0m\n\u001b[0;32m--> 467\u001b[0;31m         \u001b[0mres\u001b[0m \u001b[0;34m=\u001b[0m \u001b[0m_globalenv\u001b[0m\u001b[0;34m.\u001b[0m\u001b[0mfind\u001b[0m\u001b[0;34m(\u001b[0m\u001b[0mitem\u001b[0m\u001b[0;34m)\u001b[0m\u001b[0;34m\u001b[0m\u001b[0;34m\u001b[0m\u001b[0m\n\u001b[0m\u001b[1;32m    468\u001b[0m         \u001b[0mres\u001b[0m \u001b[0;34m=\u001b[0m \u001b[0mconversion\u001b[0m\u001b[0;34m.\u001b[0m\u001b[0mget_conversion\u001b[0m\u001b[0;34m(\u001b[0m\u001b[0;34m)\u001b[0m\u001b[0;34m.\u001b[0m\u001b[0mrpy2py\u001b[0m\u001b[0;34m(\u001b[0m\u001b[0mres\u001b[0m\u001b[0;34m)\u001b[0m\u001b[0;34m\u001b[0m\u001b[0;34m\u001b[0m\u001b[0m\n\u001b[1;32m    469\u001b[0m         \u001b[0;32mif\u001b[0m \u001b[0mhasattr\u001b[0m\u001b[0;34m(\u001b[0m\u001b[0mres\u001b[0m\u001b[0;34m,\u001b[0m \u001b[0;34m'__rname__'\u001b[0m\u001b[0;34m)\u001b[0m\u001b[0;34m:\u001b[0m\u001b[0;34m\u001b[0m\u001b[0;34m\u001b[0m\u001b[0m\n",
      "\u001b[0;32m~/opt/miniconda3/lib/python3.7/site-packages/rpy2/rinterface_lib/conversion.py\u001b[0m in \u001b[0;36m_\u001b[0;34m(*args, **kwargs)\u001b[0m\n\u001b[1;32m     43\u001b[0m \u001b[0;32mdef\u001b[0m \u001b[0m_cdata_res_to_rinterface\u001b[0m\u001b[0;34m(\u001b[0m\u001b[0mfunction\u001b[0m\u001b[0;34m)\u001b[0m\u001b[0;34m:\u001b[0m\u001b[0;34m\u001b[0m\u001b[0;34m\u001b[0m\u001b[0m\n\u001b[1;32m     44\u001b[0m     \u001b[0;32mdef\u001b[0m \u001b[0m_\u001b[0m\u001b[0;34m(\u001b[0m\u001b[0;34m*\u001b[0m\u001b[0margs\u001b[0m\u001b[0;34m,\u001b[0m \u001b[0;34m**\u001b[0m\u001b[0mkwargs\u001b[0m\u001b[0;34m)\u001b[0m\u001b[0;34m:\u001b[0m\u001b[0;34m\u001b[0m\u001b[0;34m\u001b[0m\u001b[0m\n\u001b[0;32m---> 45\u001b[0;31m         \u001b[0mcdata\u001b[0m \u001b[0;34m=\u001b[0m \u001b[0mfunction\u001b[0m\u001b[0;34m(\u001b[0m\u001b[0;34m*\u001b[0m\u001b[0margs\u001b[0m\u001b[0;34m,\u001b[0m \u001b[0;34m**\u001b[0m\u001b[0mkwargs\u001b[0m\u001b[0;34m)\u001b[0m\u001b[0;34m\u001b[0m\u001b[0;34m\u001b[0m\u001b[0m\n\u001b[0m\u001b[1;32m     46\u001b[0m         \u001b[0;31m# TODO: test cdata is of the expected CType\u001b[0m\u001b[0;34m\u001b[0m\u001b[0;34m\u001b[0m\u001b[0;34m\u001b[0m\u001b[0m\n\u001b[1;32m     47\u001b[0m         \u001b[0;32mreturn\u001b[0m \u001b[0m_cdata_to_rinterface\u001b[0m\u001b[0;34m(\u001b[0m\u001b[0mcdata\u001b[0m\u001b[0;34m)\u001b[0m\u001b[0;34m\u001b[0m\u001b[0;34m\u001b[0m\u001b[0m\n",
      "\u001b[0;32m~/opt/miniconda3/lib/python3.7/site-packages/rpy2/rinterface_lib/_rinterface_capi.py\u001b[0m in \u001b[0;36m_\u001b[0;34m(*args, **kwargs)\u001b[0m\n\u001b[1;32m    333\u001b[0m \u001b[0;32mdef\u001b[0m \u001b[0m_evaluated_promise\u001b[0m\u001b[0;34m(\u001b[0m\u001b[0mfunction\u001b[0m\u001b[0;34m)\u001b[0m\u001b[0;34m:\u001b[0m\u001b[0;34m\u001b[0m\u001b[0;34m\u001b[0m\u001b[0m\n\u001b[1;32m    334\u001b[0m     \u001b[0;32mdef\u001b[0m \u001b[0m_\u001b[0m\u001b[0;34m(\u001b[0m\u001b[0;34m*\u001b[0m\u001b[0margs\u001b[0m\u001b[0;34m,\u001b[0m \u001b[0;34m**\u001b[0m\u001b[0mkwargs\u001b[0m\u001b[0;34m)\u001b[0m\u001b[0;34m:\u001b[0m\u001b[0;34m\u001b[0m\u001b[0;34m\u001b[0m\u001b[0m\n\u001b[0;32m--> 335\u001b[0;31m         \u001b[0mrobj\u001b[0m \u001b[0;34m=\u001b[0m \u001b[0mfunction\u001b[0m\u001b[0;34m(\u001b[0m\u001b[0;34m*\u001b[0m\u001b[0margs\u001b[0m\u001b[0;34m,\u001b[0m \u001b[0;34m**\u001b[0m\u001b[0mkwargs\u001b[0m\u001b[0;34m)\u001b[0m\u001b[0;34m\u001b[0m\u001b[0;34m\u001b[0m\u001b[0m\n\u001b[0m\u001b[1;32m    336\u001b[0m         \u001b[0;32mif\u001b[0m \u001b[0m_TYPEOF\u001b[0m\u001b[0;34m(\u001b[0m\u001b[0mrobj\u001b[0m\u001b[0;34m)\u001b[0m \u001b[0;34m==\u001b[0m \u001b[0mopenrlib\u001b[0m\u001b[0;34m.\u001b[0m\u001b[0mrlib\u001b[0m\u001b[0;34m.\u001b[0m\u001b[0mPROMSXP\u001b[0m\u001b[0;34m:\u001b[0m\u001b[0;34m\u001b[0m\u001b[0;34m\u001b[0m\u001b[0m\n\u001b[1;32m    337\u001b[0m             robj = openrlib.rlib.Rf_eval(\n",
      "\u001b[0;32m~/opt/miniconda3/lib/python3.7/site-packages/rpy2/rinterface_lib/sexp.py\u001b[0m in \u001b[0;36mfind\u001b[0;34m(self, key, wantfun)\u001b[0m\n\u001b[1;32m    378\u001b[0m         \u001b[0;31m# TODO: move check of R_UnboundValue to _rinterface ?\u001b[0m\u001b[0;34m\u001b[0m\u001b[0;34m\u001b[0m\u001b[0;34m\u001b[0m\u001b[0m\n\u001b[1;32m    379\u001b[0m         \u001b[0;32mif\u001b[0m \u001b[0mres\u001b[0m \u001b[0;34m==\u001b[0m \u001b[0mopenrlib\u001b[0m\u001b[0;34m.\u001b[0m\u001b[0mrlib\u001b[0m\u001b[0;34m.\u001b[0m\u001b[0mR_UnboundValue\u001b[0m\u001b[0;34m:\u001b[0m\u001b[0;34m\u001b[0m\u001b[0;34m\u001b[0m\u001b[0m\n\u001b[0;32m--> 380\u001b[0;31m             \u001b[0;32mraise\u001b[0m \u001b[0mKeyError\u001b[0m\u001b[0;34m(\u001b[0m\u001b[0;34m\"'%s' not found\"\u001b[0m \u001b[0;34m%\u001b[0m \u001b[0mkey\u001b[0m\u001b[0;34m)\u001b[0m\u001b[0;34m\u001b[0m\u001b[0;34m\u001b[0m\u001b[0m\n\u001b[0m\u001b[1;32m    381\u001b[0m         \u001b[0;32mreturn\u001b[0m \u001b[0mres\u001b[0m\u001b[0;34m\u001b[0m\u001b[0;34m\u001b[0m\u001b[0m\n\u001b[1;32m    382\u001b[0m \u001b[0;34m\u001b[0m\u001b[0m\n",
      "\u001b[0;31mKeyError\u001b[0m: \"'your_r_dataframe' not found\""
     ]
    }
   ],
   "source": [
    "import rpy2.robjects as robjects\n",
    "from rpy2.robjects import pandas2ri\n",
    "pandas2ri.activate() #activate pandas conversion.\n",
    "r_df = robjects.r['your_r_dataframe'] #get your r dataframe\n",
    "py_df = pandas2ri.ri2py(r_df) #convert r dataframe to pandas dataframe.\n",
    "print(type(py_df))"
   ]
  },
  {
   "cell_type": "code",
   "execution_count": null,
   "id": "7125b0b8",
   "metadata": {},
   "outputs": [],
   "source": []
  }
 ],
 "metadata": {
  "kernelspec": {
   "display_name": "Python 3 (ipykernel)",
   "language": "python",
   "name": "python3"
  },
  "language_info": {
   "codemirror_mode": {
    "name": "ipython",
    "version": 3
   },
   "file_extension": ".py",
   "mimetype": "text/x-python",
   "name": "python",
   "nbconvert_exporter": "python",
   "pygments_lexer": "ipython3",
   "version": "3.9.19"
  }
 },
 "nbformat": 4,
 "nbformat_minor": 5
}
